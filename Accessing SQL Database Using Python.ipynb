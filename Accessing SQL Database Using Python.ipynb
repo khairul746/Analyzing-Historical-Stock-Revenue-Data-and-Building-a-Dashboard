{
 "cells": [
  {
   "cell_type": "code",
   "execution_count": 2,
   "id": "b4f0d046",
   "metadata": {},
   "outputs": [
    {
     "name": "stdout",
     "output_type": "stream",
     "text": [
      "Requirement already satisfied: mysql-connector-python in c:\\users\\acer\\anaconda3\\lib\\site-packages (8.2.0)\n",
      "Requirement already satisfied: protobuf<=4.21.12,>=4.21.1 in c:\\users\\acer\\anaconda3\\lib\\site-packages (from mysql-connector-python) (4.21.12)\n"
     ]
    },
    {
     "name": "stderr",
     "output_type": "stream",
     "text": [
      "WARNING: There was an error checking the latest version of pip.\n"
     ]
    }
   ],
   "source": [
    "!pip install mysql-connector-python"
   ]
  },
  {
   "cell_type": "code",
   "execution_count": 3,
   "id": "f5be45ca",
   "metadata": {},
   "outputs": [],
   "source": [
    "import mysql.connector as connection\n",
    "import pandas as pd\n",
    "import numpy as np\n",
    "mydb = connection.connect(host='127.0.0.1', database='coursera_assignment_schema', user='root',\\\n",
    "                          passwd='TuanIlyas',use_pure=True)"
   ]
  },
  {
   "cell_type": "code",
   "execution_count": 4,
   "id": "2c244cb6",
   "metadata": {},
   "outputs": [],
   "source": [
    "curr = mydb.cursor()"
   ]
  },
  {
   "cell_type": "markdown",
   "id": "ffe1e16c",
   "metadata": {},
   "source": [
    "### Problem 1\n",
    "\n",
    "##### Find the total number of crimes recorded in the CRIME table."
   ]
  },
  {
   "cell_type": "code",
   "execution_count": 5,
   "id": "ca486d6b",
   "metadata": {},
   "outputs": [
    {
     "name": "stdout",
     "output_type": "stream",
     "text": [
      "The total number of crime recorded is 353\n"
     ]
    }
   ],
   "source": [
    "curr.execute('select count(*) from CHICAGO_CRIME_DATA')\n",
    "crime_number = curr.fetchall()\n",
    "print('The total number of crime recorded is {}'.format(*np.unique(crime_number)))"
   ]
  },
  {
   "cell_type": "markdown",
   "id": "6eb11dbd",
   "metadata": {},
   "source": [
    "### Problem 2\n",
    "\n",
    "##### List community areas with per capita income less than 11000."
   ]
  },
  {
   "cell_type": "code",
   "execution_count": 6,
   "id": "48f70b0b",
   "metadata": {},
   "outputs": [
    {
     "data": {
      "text/html": [
       "<div>\n",
       "<style scoped>\n",
       "    .dataframe tbody tr th:only-of-type {\n",
       "        vertical-align: middle;\n",
       "    }\n",
       "\n",
       "    .dataframe tbody tr th {\n",
       "        vertical-align: top;\n",
       "    }\n",
       "\n",
       "    .dataframe thead th {\n",
       "        text-align: right;\n",
       "    }\n",
       "</style>\n",
       "<table border=\"1\" class=\"dataframe\">\n",
       "  <thead>\n",
       "    <tr style=\"text-align: right;\">\n",
       "      <th></th>\n",
       "      <th>Community Area</th>\n",
       "      <th>Per Capita Income</th>\n",
       "    </tr>\n",
       "  </thead>\n",
       "  <tbody>\n",
       "    <tr>\n",
       "      <th>0</th>\n",
       "      <td>West Garfield Park</td>\n",
       "      <td>10934.0</td>\n",
       "    </tr>\n",
       "    <tr>\n",
       "      <th>1</th>\n",
       "      <td>South Lawndale</td>\n",
       "      <td>10402.0</td>\n",
       "    </tr>\n",
       "    <tr>\n",
       "      <th>2</th>\n",
       "      <td>Fuller Park</td>\n",
       "      <td>10432.0</td>\n",
       "    </tr>\n",
       "    <tr>\n",
       "      <th>3</th>\n",
       "      <td>Riverdale</td>\n",
       "      <td>8201.0</td>\n",
       "    </tr>\n",
       "  </tbody>\n",
       "</table>\n",
       "</div>"
      ],
      "text/plain": [
       "       Community Area  Per Capita Income\n",
       "0  West Garfield Park            10934.0\n",
       "1      South Lawndale            10402.0\n",
       "2         Fuller Park            10432.0\n",
       "3           Riverdale             8201.0"
      ]
     },
     "execution_count": 6,
     "metadata": {},
     "output_type": "execute_result"
    }
   ],
   "source": [
    "curr.execute('select COMMUNITY_AREA_NAME, PER_CAPITA_INCOME from CENSUS_DATA where PER_CAPITA_INCOME<11000')\n",
    "comm_areas = curr.fetchall()\n",
    "comm_areas_pd = pd.DataFrame()\n",
    "for row in range(len(comm_areas)) :\n",
    "    comm_area = comm_areas[row][0]\n",
    "    income = comm_areas[row][1]\n",
    "    comm_areas_pd = comm_areas_pd.append({'Community Area':comm_area,'Per Capita Income':income},ignore_index=True)\n",
    "comm_areas_pd"
   ]
  },
  {
   "cell_type": "markdown",
   "id": "64cc4aa7",
   "metadata": {},
   "source": [
    "### Problem 4 \n",
    "\n",
    "##### List all kidnapping crimes involving a child"
   ]
  },
  {
   "cell_type": "code",
   "execution_count": 7,
   "id": "7e3a10b5",
   "metadata": {},
   "outputs": [
    {
     "data": {
      "text/html": [
       "<div>\n",
       "<style scoped>\n",
       "    .dataframe tbody tr th:only-of-type {\n",
       "        vertical-align: middle;\n",
       "    }\n",
       "\n",
       "    .dataframe tbody tr th {\n",
       "        vertical-align: top;\n",
       "    }\n",
       "\n",
       "    .dataframe thead th {\n",
       "        text-align: right;\n",
       "    }\n",
       "</style>\n",
       "<table border=\"1\" class=\"dataframe\">\n",
       "  <thead>\n",
       "    <tr style=\"text-align: right;\">\n",
       "      <th></th>\n",
       "      <th>BLOCK</th>\n",
       "      <th>CASE_NUMBER</th>\n",
       "      <th>DATE</th>\n",
       "      <th>DESCRIPTION</th>\n",
       "    </tr>\n",
       "  </thead>\n",
       "  <tbody>\n",
       "    <tr>\n",
       "      <th>0</th>\n",
       "      <td>050XX W VAN BUREN ST</td>\n",
       "      <td>HN144152</td>\n",
       "      <td>2007-01-26</td>\n",
       "      <td>CHILD ABDUCTION/STRANGER</td>\n",
       "    </tr>\n",
       "  </tbody>\n",
       "</table>\n",
       "</div>"
      ],
      "text/plain": [
       "                  BLOCK CASE_NUMBER        DATE               DESCRIPTION\n",
       "0  050XX W VAN BUREN ST    HN144152  2007-01-26  CHILD ABDUCTION/STRANGER"
      ]
     },
     "execution_count": 7,
     "metadata": {},
     "output_type": "execute_result"
    }
   ],
   "source": [
    "curr.execute('select CASE_NUMBER,DATE,BLOCK,DESCRIPTION from chicago_crime_data where PRIMARY_TYPE=\\'KIDNAPPING\\'')\n",
    "kidnapping = curr.fetchall()\n",
    "kidnapping_pd = pd.DataFrame()\n",
    "for row in range(len(kidnapping)) :\n",
    "    case_num = kidnapping[row][0]\n",
    "    date = kidnapping[row][1]\n",
    "    block = kidnapping[row][2]\n",
    "    desc = kidnapping[row][3]\n",
    "    kidnapping_pd = kidnapping_pd.append({'CASE_NUMBER':case_num,'DATE':date,'BLOCK':block,'DESCRIPTION':desc},ignore_index=True)\n",
    "kidnapping_pd"
   ]
  },
  {
   "cell_type": "markdown",
   "id": "6c23378d",
   "metadata": {},
   "source": [
    "### Problem 5\n",
    "##### What kind of crimes were recorded at schools?"
   ]
  },
  {
   "cell_type": "code",
   "execution_count": 8,
   "id": "3b2c530c",
   "metadata": {},
   "outputs": [
    {
     "data": {
      "text/html": [
       "<div>\n",
       "<style scoped>\n",
       "    .dataframe tbody tr th:only-of-type {\n",
       "        vertical-align: middle;\n",
       "    }\n",
       "\n",
       "    .dataframe tbody tr th {\n",
       "        vertical-align: top;\n",
       "    }\n",
       "\n",
       "    .dataframe thead th {\n",
       "        text-align: right;\n",
       "    }\n",
       "</style>\n",
       "<table border=\"1\" class=\"dataframe\">\n",
       "  <thead>\n",
       "    <tr style=\"text-align: right;\">\n",
       "      <th></th>\n",
       "      <th>PRIMARY_TYPE</th>\n",
       "    </tr>\n",
       "  </thead>\n",
       "  <tbody>\n",
       "    <tr>\n",
       "      <th>0</th>\n",
       "      <td>CRIMINAL DAMAGE</td>\n",
       "    </tr>\n",
       "    <tr>\n",
       "      <th>1</th>\n",
       "      <td>NARCOTICS</td>\n",
       "    </tr>\n",
       "    <tr>\n",
       "      <th>2</th>\n",
       "      <td>CRIMINAL TRESPASS</td>\n",
       "    </tr>\n",
       "  </tbody>\n",
       "</table>\n",
       "</div>"
      ],
      "text/plain": [
       "        PRIMARY_TYPE\n",
       "0    CRIMINAL DAMAGE\n",
       "1          NARCOTICS\n",
       "2  CRIMINAL TRESPASS"
      ]
     },
     "execution_count": 8,
     "metadata": {},
     "output_type": "execute_result"
    }
   ],
   "source": [
    "curr.execute(\"\"\"select distinct(PRIMARY_TYPE) from chicago_crime_data \n",
    "             where LOCATION_DESCRIPTION like \\'SCHOOL%\\'\"\"\")\n",
    "school_crime = curr.fetchall()\n",
    "school_crime_pd = pd.DataFrame()\n",
    "for row in range(len(school_crime)) :\n",
    "    PRIM = school_crime[row][0]\n",
    "    school_crime_pd = school_crime_pd.append({'PRIMARY_TYPE':PRIM},ignore_index=True)\n",
    "school_crime_pd"
   ]
  },
  {
   "cell_type": "markdown",
   "id": "c6c1cdd9",
   "metadata": {},
   "source": [
    "### Problem 6\n",
    "##### List the average safety score for all types of schools."
   ]
  },
  {
   "cell_type": "code",
   "execution_count": 9,
   "id": "9c7c2926",
   "metadata": {},
   "outputs": [
    {
     "data": {
      "text/html": [
       "<div>\n",
       "<style scoped>\n",
       "    .dataframe tbody tr th:only-of-type {\n",
       "        vertical-align: middle;\n",
       "    }\n",
       "\n",
       "    .dataframe tbody tr th {\n",
       "        vertical-align: top;\n",
       "    }\n",
       "\n",
       "    .dataframe thead th {\n",
       "        text-align: right;\n",
       "    }\n",
       "</style>\n",
       "<table border=\"1\" class=\"dataframe\">\n",
       "  <thead>\n",
       "    <tr style=\"text-align: right;\">\n",
       "      <th></th>\n",
       "      <th>AVERAGE_SAFETY_SCORE</th>\n",
       "      <th>SCHOOL_TYPE</th>\n",
       "    </tr>\n",
       "  </thead>\n",
       "  <tbody>\n",
       "    <tr>\n",
       "      <th>0</th>\n",
       "      <td>49.4371</td>\n",
       "      <td>ES</td>\n",
       "    </tr>\n",
       "    <tr>\n",
       "      <th>1</th>\n",
       "      <td>56.8286</td>\n",
       "      <td>HS</td>\n",
       "    </tr>\n",
       "    <tr>\n",
       "      <th>2</th>\n",
       "      <td>53.0000</td>\n",
       "      <td>MS</td>\n",
       "    </tr>\n",
       "  </tbody>\n",
       "</table>\n",
       "</div>"
      ],
      "text/plain": [
       "  AVERAGE_SAFETY_SCORE SCHOOL_TYPE\n",
       "0              49.4371          ES\n",
       "1              56.8286          HS\n",
       "2              53.0000          MS"
      ]
     },
     "execution_count": 9,
     "metadata": {},
     "output_type": "execute_result"
    }
   ],
   "source": [
    "curr.execute(\"\"\"select `Elementary, Middle, or High School`, avg(SAFETY_SCORE) from chicago_public_schools \n",
    "             group by `Elementary, Middle, or High School`\"\"\")\n",
    "safe_score = curr.fetchall()\n",
    "safe_score_pd = pd.DataFrame()\n",
    "for row in range(len(safe_score)) :\n",
    "    school = safe_score[row][0]\n",
    "    avg = safe_score[row][1]\n",
    "    safe_score_pd = safe_score_pd.append({'SCHOOL_TYPE':school,'AVERAGE_SAFETY_SCORE':avg},ignore_index=True)\n",
    "safe_score_pd"
   ]
  },
  {
   "cell_type": "markdown",
   "id": "480df1bf",
   "metadata": {},
   "source": [
    "### Problem 7\n",
    "##### List 5 community areas with highest % of households below poverty line."
   ]
  },
  {
   "cell_type": "code",
   "execution_count": 10,
   "id": "d7bfc5fa",
   "metadata": {},
   "outputs": [
    {
     "data": {
      "text/html": [
       "<div>\n",
       "<style scoped>\n",
       "    .dataframe tbody tr th:only-of-type {\n",
       "        vertical-align: middle;\n",
       "    }\n",
       "\n",
       "    .dataframe tbody tr th {\n",
       "        vertical-align: top;\n",
       "    }\n",
       "\n",
       "    .dataframe thead th {\n",
       "        text-align: right;\n",
       "    }\n",
       "</style>\n",
       "<table border=\"1\" class=\"dataframe\">\n",
       "  <thead>\n",
       "    <tr style=\"text-align: right;\">\n",
       "      <th></th>\n",
       "      <th>COMMUNITY_AREA_NAME</th>\n",
       "      <th>PERCENT_HOUSEHOLDS_BELOW_POVERTY</th>\n",
       "    </tr>\n",
       "  </thead>\n",
       "  <tbody>\n",
       "    <tr>\n",
       "      <th>0</th>\n",
       "      <td>Riverdale</td>\n",
       "      <td>56.5</td>\n",
       "    </tr>\n",
       "    <tr>\n",
       "      <th>1</th>\n",
       "      <td>Fuller Park</td>\n",
       "      <td>51.2</td>\n",
       "    </tr>\n",
       "    <tr>\n",
       "      <th>2</th>\n",
       "      <td>Englewood</td>\n",
       "      <td>46.6</td>\n",
       "    </tr>\n",
       "    <tr>\n",
       "      <th>3</th>\n",
       "      <td>North Lawndale</td>\n",
       "      <td>43.1</td>\n",
       "    </tr>\n",
       "    <tr>\n",
       "      <th>4</th>\n",
       "      <td>East Garfield Park</td>\n",
       "      <td>42.4</td>\n",
       "    </tr>\n",
       "  </tbody>\n",
       "</table>\n",
       "</div>"
      ],
      "text/plain": [
       "  COMMUNITY_AREA_NAME  PERCENT_HOUSEHOLDS_BELOW_POVERTY\n",
       "0           Riverdale                              56.5\n",
       "1         Fuller Park                              51.2\n",
       "2           Englewood                              46.6\n",
       "3      North Lawndale                              43.1\n",
       "4  East Garfield Park                              42.4"
      ]
     },
     "execution_count": 10,
     "metadata": {},
     "output_type": "execute_result"
    }
   ],
   "source": [
    "curr.execute(\"\"\"SELECT COMMUNITY_AREA_NAME,PERCENT_HOUSEHOLDS_BELOW_POVERTY FROM census_data \n",
    "order by PERCENT_HOUSEHOLDS_BELOW_POVERTY DESC LIMIT 5\"\"\")\n",
    "poverty_comm = curr.fetchall()\n",
    "poverty_comm_pd = pd.DataFrame()\n",
    "for row in range(len(poverty_comm)) :\n",
    "    comm_area = poverty_comm[row][0]\n",
    "    percent = poverty_comm[row][1]\n",
    "    poverty_comm_pd = poverty_comm_pd.append({'COMMUNITY_AREA_NAME':comm_area,'PERCENT_HOUSEHOLDS_BELOW_POVERTY':percent},ignore_index=True)\n",
    "poverty_comm_pd"
   ]
  },
  {
   "cell_type": "markdown",
   "id": "1b694d0f",
   "metadata": {},
   "source": [
    "### Problem 8 \n",
    "###### Which community area(number) is most crime prone?"
   ]
  },
  {
   "cell_type": "code",
   "execution_count": 11,
   "id": "97b2440b",
   "metadata": {},
   "outputs": [],
   "source": [
    "#QUERY = \"\"\"select COMMUNITY_AREA_NUMBER from chicago_crime_data \n",
    "#group by COMMUNITY AREA NUMBER order by count(*) desc nulls last limit 1\"\"\"\n",
    "#curr.execute(QUERY)\n",
    "#crime_prone = curr.fetchall()\n",
    "#crime_prone_pd = pd.DataFrame()\n",
    "#for row in range(len(crime_prone)):\n",
    "#    comm_num = str(crime_prone[row][0])\n",
    "#    prone = crime_prone[row][1]\n",
    "#    crime_prone_pd = crime_prone_pd.append({'COMMUNITY AREA NUMBER':comm_num,'CRIME PRONE':prone},ignore_index=True)\n",
    "#max_comm_num = crime_prone_pd['CRIME PRONE'].max()\n",
    "#max_comm_num"
   ]
  },
  {
   "cell_type": "markdown",
   "id": "b3a71b53",
   "metadata": {},
   "source": [
    "### Problem 9\n",
    "##### Use a sub-query to find the name of the community area with highest hardship index."
   ]
  },
  {
   "cell_type": "code",
   "execution_count": 12,
   "id": "572c5488",
   "metadata": {},
   "outputs": [
    {
     "name": "stdout",
     "output_type": "stream",
     "text": [
      "Riverdale is the community area with the highest hardship index with index 98\n"
     ]
    }
   ],
   "source": [
    "curr.execute('select COMMUNITY_AREA_NAME,HARDSHIP_INDEX from census_data where HARDSHIP_INDEX = (select max(HARDSHIP_INDEX) from census_data)')\n",
    "high_comm = curr.fetchall()\n",
    "print('{} is the community area with the highest hardship index with index {}'.format(high_comm[0][0],high_comm[0][1]))"
   ]
  },
  {
   "cell_type": "markdown",
   "id": "424bebf1",
   "metadata": {},
   "source": [
    "### Problem 10\n",
    "##### Use a sub-query to determine the Community Area Name with most number of crimes?"
   ]
  },
  {
   "cell_type": "code",
   "execution_count": 13,
   "id": "167afaea",
   "metadata": {},
   "outputs": [
    {
     "name": "stdout",
     "output_type": "stream",
     "text": [
      "Austin is the community area with the most number of crime\n"
     ]
    }
   ],
   "source": [
    "query = \"\"\"SELECT COMMUNITY_AREA_NAME, COUNT(*) AS total_records\n",
    "FROM census_data\n",
    "WHERE COMMUNITY_AREA_NUMBER = (\n",
    "    SELECT COMMUNITY_AREA_NUMBER\n",
    "    FROM chicago_crime_data\n",
    "    GROUP BY COMMUNITY_AREA_NUMBER\n",
    "    ORDER BY COUNT(*) DESC\n",
    "    LIMIT 1\n",
    ")\n",
    "GROUP BY COMMUNITY_AREA_NAME\"\"\"\n",
    "curr.execute(query)\n",
    "print('{} is the community area with the most number of crime'.format(curr.fetchall()[0][0]))"
   ]
  },
  {
   "cell_type": "code",
   "execution_count": 14,
   "id": "df2547e3",
   "metadata": {},
   "outputs": [],
   "source": [
    "curr.close()\n",
    "mydb.close()"
   ]
  }
 ],
 "metadata": {
  "kernelspec": {
   "display_name": "Python 3 (ipykernel)",
   "language": "python",
   "name": "python3"
  },
  "language_info": {
   "codemirror_mode": {
    "name": "ipython",
    "version": 3
   },
   "file_extension": ".py",
   "mimetype": "text/x-python",
   "name": "python",
   "nbconvert_exporter": "python",
   "pygments_lexer": "ipython3",
   "version": "3.9.18"
  }
 },
 "nbformat": 4,
 "nbformat_minor": 5
}
